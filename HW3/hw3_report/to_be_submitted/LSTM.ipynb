{
 "cells": [
  {
   "cell_type": "code",
   "execution_count": 7,
   "metadata": {},
   "outputs": [
    {
     "name": "stdout",
     "output_type": "stream",
     "text": [
      "98794\n"
     ]
    }
   ],
   "source": [
    "\n",
    "import torch\n",
    "import torchtext\n",
    "import torch.nn as nn\n",
    "from torchtext import data\n",
    "from torchtext import datasets\n",
    "import torch.optim as optim\n",
    "import time\n",
    "import warnings\n",
    "warnings.filterwarnings('ignore')\n",
    "\n",
    "TEXT = data.Field(include_lengths=True)\n",
    "\n",
    "# If you want to use English tokenizer from SpaCy, you need to install SpaCy and download its English model:\n",
    "# pip install spacy\n",
    "# python -m spacy download en_core_web_sm\n",
    "# TEXT = data.Field(tokenize='spacy', tokenizer_language='en_core_web_sm', include_lengths=True)\n",
    "\n",
    "LABEL = data.LabelField(dtype=torch.long)\n",
    "\n",
    "train_data, valid_data, test_data = datasets.SST.splits(TEXT, LABEL, train_subtrees=True, filter_pred=lambda ex: ex.label != 'neutral')\n",
    "print(len(train_data))\n",
    "# TEXT.build_vocab(train_data)\n",
    "# Here, you can also use some pre-trained embedding\n",
    "TEXT.build_vocab(train_data,\n",
    "                 vectors=\"glove.6B.100d\",\n",
    "                 unk_init=torch.Tensor.normal_)\n",
    "LABEL.build_vocab(train_data,\n",
    "                 vectors=\"glove.6B.100d\",\n",
    "                 unk_init=torch.Tensor.normal_)\n",
    "\n",
    "device = torch.device(\"cuda\" if torch.cuda.is_available() else \"cpu\")\n",
    "batch_size = 64\n",
    "\n",
    "train_iterator, valid_iterator, test_iterator = data.BucketIterator.splits(\n",
    "    (train_data, valid_data, test_data),\n",
    "    sort_key=lambda x: len(x.text),\n",
    "    batch_size=batch_size, \n",
    "    sort_within_batch=False,\n",
    "    shuffle=True,\n",
    "    device=device)\n"
   ]
  },
  {
   "cell_type": "code",
   "execution_count": 8,
   "metadata": {},
   "outputs": [
    {
     "name": "stdout",
     "output_type": "stream",
     "text": [
      "tensor([[  75,  101,  748,  ...,  171,  610,  123],\n",
      "        [ 743,   18,    5,  ...,   21,   12,    1],\n",
      "        [ 735, 2284,    1,  ...,   20,    3,    1],\n",
      "        ...,\n",
      "        [   1,    1,    1,  ...,    1,    1,    1],\n",
      "        [   1,    1,    1,  ...,    1,    1,    1],\n",
      "        [   1,    1,    1,  ...,    1,    1,    1]], device='cuda:0')\n"
     ]
    }
   ],
   "source": [
    "for batch in train_iterator:\n",
    "    sent, labels = batch.text, batch.label\n",
    "    print(sent[0])\n",
    "    \n",
    "    break"
   ]
  },
  {
   "cell_type": "code",
   "execution_count": 9,
   "metadata": {},
   "outputs": [],
   "source": [
    "import torch\n",
    "from torch.autograd import Variable\n",
    "import torch.nn as nn\n",
    "import torch.nn.functional as F\n",
    "\n",
    "class BiLSTM(nn.Module):\n",
    "\n",
    "    def __init__(\n",
    "        self, \n",
    "        embedding_dim, \n",
    "        hidden_dim, \n",
    "        vocab_size, \n",
    "        label_size, \n",
    "        batch_size\n",
    "    ):\n",
    "        super(BiLSTM, self).__init__()\n",
    "        self.hidden_dim = hidden_dim\n",
    "        self.batch_size = batch_size\n",
    "        self.embeddings = nn.Embedding(vocab_size, embedding_dim)\n",
    "        self.lstm = nn.LSTM(\n",
    "            input_size=embedding_dim, \n",
    "            hidden_size=hidden_dim, \n",
    "            bidirectional=True,\n",
    "            \n",
    "        )\n",
    "        self.hidden2label = nn.Linear(hidden_dim*2, label_size)\n",
    "        \n",
    "        self.hidden = self.init_hidden()\n",
    "        \n",
    "        \n",
    "\n",
    "    def init_hidden(self):\n",
    "        # first is the hidden h\n",
    "        # second is the cell c\n",
    "        if torch.cuda.is_available():\n",
    "            # print('use gpu')\n",
    "            # print(self.device)\n",
    "            return (Variable(torch.zeros(2, self.batch_size, self.hidden_dim).cuda()),\n",
    "                    Variable(torch.zeros(2, self.batch_size, self.hidden_dim).cuda()))\n",
    "        else:\n",
    "            # print('use cpu')\n",
    "            # print(self.device)\n",
    "            return (Variable(torch.zeros(2, self.batch_size, self.hidden_dim)),\n",
    "                    Variable(torch.zeros(2, self.batch_size, self.hidden_dim)))\n",
    "\n",
    "    def forward(self, sentence):\n",
    "        # print(len(sentence))\n",
    "        # print(self.batch_size)\n",
    "        self.hidden = self.init_hidden()\n",
    "        x = self.embeddings(sentence).view(len(sentence), self.batch_size, -1)\n",
    "        \n",
    "        # Detach hidden states from the graph\n",
    "        # self.hidden = tuple(h.detach() for h in self.hidden)\n",
    "        lstm_out, self.hidden = self.lstm(x, self.hidden)\n",
    "        \n",
    "        y = self.hidden2label(lstm_out[-1])\n",
    "        \n",
    "        log_probs = F.log_softmax(y)\n",
    "        \n",
    "        return log_probs"
   ]
  },
  {
   "cell_type": "code",
   "execution_count": 10,
   "metadata": {},
   "outputs": [],
   "source": [
    "\n",
    "network = BiLSTM(\n",
    "    embedding_dim=100,\n",
    "    hidden_dim=150,\n",
    "    vocab_size=len(TEXT.vocab),\n",
    "    label_size=len(LABEL.vocab),\n",
    "    batch_size=batch_size\n",
    ")\n",
    "\n"
   ]
  },
  {
   "cell_type": "code",
   "execution_count": 11,
   "metadata": {},
   "outputs": [
    {
     "name": "stdout",
     "output_type": "stream",
     "text": [
      "18003\n",
      "\n"
     ]
    }
   ],
   "source": [
    "print(len(TEXT.vocab))\n",
    "print()"
   ]
  },
  {
   "cell_type": "code",
   "execution_count": 5,
   "metadata": {},
   "outputs": [
    {
     "name": "stdout",
     "output_type": "stream",
     "text": [
      "Embedding(18003, 100)\n",
      "1544\n",
      "14\n",
      "29\n"
     ]
    }
   ],
   "source": [
    "print(network.embeddings)\n",
    "print(len(train_iterator))\n",
    "print(len(valid_iterator))\n",
    "print(len(test_iterator))"
   ]
  },
  {
   "cell_type": "code",
   "execution_count": 6,
   "metadata": {},
   "outputs": [
    {
     "name": "stdout",
     "output_type": "stream",
     "text": [
      "2\n",
      "BiLSTM(\n",
      "  (embeddings): Embedding(18003, 100)\n",
      "  (lstm): LSTM(100, 150, bidirectional=True)\n",
      "  (hidden2label): Linear(in_features=300, out_features=2, bias=True)\n",
      ")\n"
     ]
    }
   ],
   "source": [
    "print(len(LABEL.vocab))\n",
    "network.to(device=device)\n",
    "print(network)"
   ]
  },
  {
   "cell_type": "code",
   "execution_count": 7,
   "metadata": {},
   "outputs": [],
   "source": [
    "epoch_no = 20\n",
    "learning_rate = 1e-2\n",
    "\n",
    "loss_func = nn.CrossEntropyLoss()\n"
   ]
  },
  {
   "cell_type": "code",
   "execution_count": 8,
   "metadata": {},
   "outputs": [
    {
     "name": "stdout",
     "output_type": "stream",
     "text": [
      "42\n",
      "40\n",
      "29\n"
     ]
    }
   ],
   "source": [
    "for i, batch in enumerate(train_iterator):\n",
    "    if len(batch) != batch_size:\n",
    "        print(len(batch))\n",
    "        \n",
    "for i, batch in enumerate(valid_iterator):\n",
    "    if len(batch) != batch_size:\n",
    "        print(len(batch))\n",
    "        \n",
    "for i, batch in enumerate(test_iterator):\n",
    "    if len(batch) != batch_size:\n",
    "        print(len(batch))\n",
    "        \n",
    "\n"
   ]
  },
  {
   "cell_type": "code",
   "execution_count": 9,
   "metadata": {},
   "outputs": [
    {
     "name": "stdout",
     "output_type": "stream",
     "text": [
      "Epoch:0 Complete!\n",
      "49.86271279516749\n",
      "Epoch:1 Complete!\n",
      "49.86271279516749\n",
      "Epoch:2 Complete!\n",
      "49.86271279516749\n",
      "Epoch:3 Complete!\n",
      "49.86271279516749\n",
      "Epoch:4 Complete!\n",
      "49.91762767710049\n",
      "Epoch:5 Complete!\n",
      "49.91762767710049\n",
      "Epoch:6 Complete!\n",
      "49.91762767710049\n",
      "Epoch:7 Complete!\n",
      "50.0274574409665\n",
      "Epoch:8 Complete!\n",
      "50.08237232289951\n",
      "Epoch:9 Complete!\n",
      "49.86271279516749\n",
      "Epoch:10 Complete!\n",
      "50.08237232289951\n",
      "Epoch:11 Complete!\n",
      "50.521691378363535\n",
      "Epoch:12 Complete!\n",
      "50.08237232289951\n",
      "Epoch:13 Complete!\n",
      "50.13728720483251\n",
      "Epoch:14 Complete!\n",
      "50.30203185063152\n",
      "Epoch:15 Complete!\n",
      "51.23558484349259\n",
      "Epoch:16 Complete!\n",
      "67.49038989566172\n",
      "Epoch:17 Complete!\n",
      "77.64964305326744\n",
      "Epoch:18 Complete!\n",
      "77.75947281713344\n",
      "Epoch:19 Complete!\n",
      "56.39758374519495\n",
      "Epoch:0 Complete!\n",
      "54.310818231740804\n",
      "Epoch:1 Complete!\n",
      "52.8830313014827\n",
      "Epoch:2 Complete!\n",
      "55.07962657880285\n",
      "Epoch:3 Complete!\n",
      "54.475562877539815\n",
      "Epoch:4 Complete!\n",
      "55.24437122460187\n",
      "Epoch:5 Complete!\n",
      "56.891817682591984\n",
      "Epoch:6 Complete!\n",
      "55.95826468973092\n",
      "Epoch:7 Complete!\n",
      "62.8775398132894\n",
      "Epoch:8 Complete!\n",
      "61.834157056562326\n",
      "Epoch:9 Complete!\n",
      "63.97583745194948\n",
      "Epoch:10 Complete!\n",
      "59.74739154310818\n",
      "Epoch:11 Complete!\n",
      "69.13783635365183\n",
      "Epoch:12 Complete!\n",
      "68.31411312465679\n",
      "Epoch:13 Complete!\n",
      "71.22460186710599\n",
      "Epoch:14 Complete!\n",
      "70.73036792970895\n",
      "Epoch:15 Complete!\n",
      "73.75068643602417\n",
      "Epoch:16 Complete!\n",
      "72.48764415156508\n",
      "Epoch:17 Complete!\n",
      "74.08017572762219\n",
      "Epoch:18 Complete!\n",
      "75.17847336628226\n",
      "Epoch:19 Complete!\n",
      "76.05711147721033\n",
      "Epoch:0 Complete!\n",
      "75.83745194947831\n",
      "Epoch:1 Complete!\n",
      "75.7276221856123\n",
      "Epoch:2 Complete!\n",
      "75.56287753981329\n",
      "Epoch:3 Complete!\n",
      "75.7825370675453\n",
      "Epoch:4 Complete!\n",
      "75.45304777594728\n",
      "Epoch:5 Complete!\n",
      "75.6727073036793\n",
      "Epoch:6 Complete!\n",
      "75.6727073036793\n",
      "Epoch:7 Complete!\n",
      "75.6727073036793\n",
      "Epoch:8 Complete!\n",
      "75.6727073036793\n",
      "Epoch:9 Complete!\n",
      "75.7276221856123\n",
      "Epoch:10 Complete!\n",
      "75.56287753981329\n",
      "Epoch:11 Complete!\n",
      "75.7276221856123\n",
      "Epoch:12 Complete!\n",
      "75.45304777594728\n",
      "Epoch:13 Complete!\n",
      "75.61779242174629\n",
      "Epoch:14 Complete!\n",
      "75.6727073036793\n",
      "Epoch:15 Complete!\n",
      "75.61779242174629\n",
      "Epoch:16 Complete!\n",
      "75.6727073036793\n",
      "Epoch:17 Complete!\n",
      "75.61779242174629\n",
      "Epoch:18 Complete!\n",
      "75.7276221856123\n",
      "Epoch:19 Complete!\n",
      "75.50796265788028\n",
      "Epoch:0 Complete!\n",
      "75.6727073036793\n",
      "Epoch:1 Complete!\n",
      "75.6727073036793\n",
      "Epoch:2 Complete!\n",
      "75.6727073036793\n",
      "Epoch:3 Complete!\n",
      "75.6727073036793\n",
      "Epoch:4 Complete!\n",
      "75.6727073036793\n",
      "Epoch:5 Complete!\n",
      "75.6727073036793\n",
      "Epoch:6 Complete!\n",
      "75.6727073036793\n",
      "Epoch:7 Complete!\n",
      "75.6727073036793\n",
      "Epoch:8 Complete!\n",
      "75.6727073036793\n",
      "Epoch:9 Complete!\n",
      "75.6727073036793\n",
      "Epoch:10 Complete!\n",
      "75.6727073036793\n",
      "Epoch:11 Complete!\n",
      "75.6727073036793\n",
      "Epoch:12 Complete!\n",
      "75.6727073036793\n",
      "Epoch:13 Complete!\n",
      "75.6727073036793\n",
      "Epoch:14 Complete!\n",
      "75.6727073036793\n",
      "Epoch:15 Complete!\n",
      "75.7276221856123\n",
      "Epoch:16 Complete!\n",
      "75.6727073036793\n",
      "Epoch:17 Complete!\n",
      "75.6727073036793\n",
      "Epoch:18 Complete!\n",
      "75.6727073036793\n",
      "Epoch:19 Complete!\n",
      "75.7276221856123\n"
     ]
    }
   ],
   "source": [
    "import os\n",
    "import sys\n",
    "\n",
    "\n",
    "# learning_rate = [1.0, 0.1, 0.01, 0.001, 0.0001]\n",
    "learning_rate = [1e-3, 1e-4, 1e-5, 1e-6]\n",
    "\n",
    "for lr in learning_rate:\n",
    "    # optimizer = optim.Adam(network.parameters(), lr=lr)\n",
    "    optimizer = optim.SGD(network.parameters(), lr=lr, momentum=0.9) # weight_decay for regularization\n",
    "\n",
    "    \n",
    "    begin_time = time.time()\n",
    "    logname = 'result_LSTM_'+ str(lr) + '.txt'\n",
    "\n",
    "    if os.path.exists(logname):\n",
    "        os.remove(logname)\n",
    "    f = open(logname, 'w')\n",
    "    f.write('Run Start Time: ' + str(time.ctime()))\n",
    "    f.write('Learning Rate\\t%f\\n' % lr)\n",
    "\n",
    "    for epoch in range(epoch_no):\n",
    "        epoch_start_time = time.time()\n",
    "        epoch_loss = 0.0\n",
    "        \n",
    "        # train\n",
    "        for i, batch in enumerate(train_iterator):\n",
    "            \n",
    "            sent, labels = batch.text, batch.label\n",
    "            \n",
    "            lala = sent[0].to(device)\n",
    "            labels = labels.to(device)\n",
    "            \n",
    "            optimizer.zero_grad()\n",
    "            \n",
    "            # print(lala.shape)\n",
    "            # print(labels.shape)\n",
    "            network.batch_size = len(labels)\n",
    "            network.hidden = network.init_hidden()\n",
    "            \n",
    "            outputs = network.forward(lala)\n",
    "            batch_loss = loss_func(outputs, labels)\n",
    "            \n",
    "            batch_loss.backward()\n",
    "            optimizer.step()\n",
    "            \n",
    "            epoch_loss += batch_loss.item()\n",
    "            \n",
    "        f.write(\"Epoch\\t%d\\tLoss\\t%f\\t\" % (epoch + 1, epoch_loss / (i + 1)))\n",
    "        epoch_end_time = time.time()\n",
    "        \n",
    "        # test\n",
    "        with torch.no_grad():\n",
    "            correct = 0\n",
    "            total = 0\n",
    "            \n",
    "            for batch in test_iterator:\n",
    "                sent, labels = batch.text, batch.label\n",
    "                \n",
    "                lala = sent[0].to(device)\n",
    "                labels = labels.to(device)\n",
    "                \n",
    "                network.batch_size = len(labels)\n",
    "                network.hidden = network.init_hidden()\n",
    "                \n",
    "                # Forward pass            \n",
    "                outputs = network.forward(lala)\n",
    "                \n",
    "                # print(outputs)\n",
    "                \n",
    "                _, predicted = torch.max(outputs.data, 1)\n",
    "                correct_matrix = (predicted == labels)\n",
    "                \n",
    "                correct = correct + correct_matrix.sum().item()\n",
    "                total = total + len(correct_matrix)\n",
    "                \n",
    "                # sys.exit()\n",
    "\n",
    "                \n",
    "        f.write('Accuracy of the network [%d/%d]\\t%f %%\\n' % (correct, total, 100 * correct / total))\n",
    "        print(f'Epoch:{epoch} Complete!')\n",
    "        print(100 * correct / total)\n",
    "\n",
    "    f.write('Training Complete: ' + str(time.ctime()) + '\\n')\n",
    "    run_time = time.time() - begin_time\n",
    "    f.write('Runtime\\t%f\\n' % run_time)\n",
    "    f.close()\n"
   ]
  },
  {
   "cell_type": "code",
   "execution_count": 2,
   "metadata": {},
   "outputs": [
    {
     "name": "stdout",
     "output_type": "stream",
     "text": [
      "Loss values: [0.554752, 0.26927, 0.168324, 0.116975, 0.086841, 0.066177, 0.052417, 0.040707, 0.034912, 0.029468, 0.026445, 0.022692, 0.020196, 0.018369, 0.01749, 0.015653, 0.013143, 0.012518, 0.014725, 0.011003]\n",
      "Accuracy values: [75.892367, 80.395387, 79.516749, 81.109281, 81.878089, 81.878089, 80.779791, 81.658429, 81.164195, 81.5486, 82.317408, 81.658429, 80.230643, 80.175728, 80.615047, 80.779791, 80.615047, 81.768259, 79.461834, 81.823174]\n"
     ]
    }
   ],
   "source": [
    "import re\n",
    "import matplotlib.pyplot as plt\n",
    "import numpy as np\n",
    "\n",
    "namehere = 'result_LSTM'\n",
    "# Open the file and read its content\n",
    "with open(namehere+'.txt', 'r') as file:\n",
    "    content = file.read()\n",
    "\n",
    "# Use regular expressions to find loss and accuracy values\n",
    "loss_pattern = re.compile(r'Epoch\\s*\\d+\\s*Loss\\s*([\\d.]+)')\n",
    "accuracy_pattern = re.compile(r'Accuracy of the network \\[([\\d]+)/\\d+\\]\\s*([\\d.]+)')\n",
    "\n",
    "# Find all occurrences of loss and accuracy in the content\n",
    "loss_values = [float(match.group(1)) for match in loss_pattern.finditer(content)]\n",
    "accuracy_values = [float(match.group(2)) for match in accuracy_pattern.finditer(content)]\n",
    "\n",
    "# Print the extracted values\n",
    "print(\"Loss values:\", loss_values)\n",
    "print(\"Accuracy values:\", accuracy_values)"
   ]
  },
  {
   "cell_type": "code",
   "execution_count": 4,
   "metadata": {},
   "outputs": [
    {
     "name": "stderr",
     "output_type": "stream",
     "text": [
      "/tmp/ipykernel_11284/1657394106.py:8: UserWarning: color is redundantly defined by the 'color' keyword argument and the fmt string \"-bD\" (-> color='b'). The keyword argument will take precedence.\n",
      "  plt.plot(x,loss_values, '-bD',  c='blue', mfc='red', mec='k')\n"
     ]
    },
    {
     "data": {
      "image/png": "[encoded data removed]",
      "text/plain": [
       "<Figure size 800x400 with 1 Axes>"
      ]
     },
     "metadata": {},
     "output_type": "display_data"
    }
   ],
   "source": [
    "\n",
    "filename = namehere + \".pdf\"\n",
    "\n",
    "plt.rcParams[\"figure.figsize\"] = [8.0,4.0]\n",
    "plt.rcParams[\"figure.autolayout\"] = True\n",
    "plt.title(namehere)\n",
    "\n",
    "x = list(range(1,21)) \n",
    "plt.plot(x,loss_values, '-bD',  c='blue', mfc='red', mec='k')\n",
    "plt.xticks(np.arange(min(x), max(x)+1, 1.0))\n",
    "plt.xlabel(\"epochs\", )\n",
    "plt.ylabel(\"Loss/No. of Batch\")\n",
    "plt.ylim(0.0,0.6)\n",
    "plt.savefig(\"./\" + filename, format=\"pdf\", bbox_inches=\"tight\")\n",
    "plt.show()"
   ]
  },
  {
   "cell_type": "code",
   "execution_count": 6,
   "metadata": {},
   "outputs": [
    {
     "name": "stderr",
     "output_type": "stream",
     "text": [
      "/tmp/ipykernel_11284/2087440392.py:8: UserWarning: color is redundantly defined by the 'color' keyword argument and the fmt string \"-bD\" (-> color='b'). The keyword argument will take precedence.\n",
      "  plt.plot(x, accuracy_values, '-bD',  c='blue', mfc='red', mec='k')\n"
     ]
    },
    {
     "data": {
      "image/png": "[encoded data removed]",
      "text/plain": [
       "<Figure size 800x400 with 1 Axes>"
      ]
     },
     "metadata": {},
     "output_type": "display_data"
    }
   ],
   "source": [
    "filename = namehere + \"_accuracy\" + \".pdf\"\n",
    "\n",
    "plt.rcParams[\"figure.figsize\"] = [8.0,4.0]\n",
    "plt.rcParams[\"figure.autolayout\"] = True\n",
    "plt.title(\"Accuracy @ \" + namehere)\n",
    "\n",
    "x = list(range(1,21))\n",
    "plt.plot(x, accuracy_values, '-bD',  c='blue', mfc='red', mec='k')\n",
    "plt.xticks(np.arange(min(x), max(x)+1, 1.0))\n",
    "plt.xlabel(\"epochs\", )\n",
    "plt.ylabel(\"Accuracy (%)\")\n",
    "plt.ylim(70, 90)\n",
    "plt.savefig(\"./\" + filename, format=\"pdf\", bbox_inches=\"tight\")\n",
    "plt.show()"
   ]
  }
 ],
 "metadata": {
  "kernelspec": {
   "display_name": "Python 3",
   "language": "python",
   "name": "python3"
  },
  "language_info": {
   "codemirror_mode": {
    "name": "ipython",
    "version": 3
   },
   "file_extension": ".py",
   "mimetype": "text/x-python",
   "name": "python",
   "nbconvert_exporter": "python",
   "pygments_lexer": "ipython3",
   "version": "3.8.10"
  },
  "orig_nbformat": 4
 },
 "nbformat": 4,
 "nbformat_minor": 2
}
