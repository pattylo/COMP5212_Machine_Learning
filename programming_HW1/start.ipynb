{
 "cells": [
  {
   "attachments": {},
   "cell_type": "markdown",
   "metadata": {},
   "source": [
    "### For pytorch warmup  "
   ]
  },
  {
   "attachments": {},
   "cell_type": "markdown",
   "metadata": {},
   "source": [
    "Pytorch Tutorial: our goal is to train a polynomial model to fit sine function."
   ]
  },
  {
   "cell_type": "code",
   "execution_count": 9,
   "metadata": {},
   "outputs": [],
   "source": [
    "import numpy as np\n",
    "import math"
   ]
  },
  {
   "attachments": {},
   "cell_type": "markdown",
   "metadata": {},
   "source": [
    "create random input and output data"
   ]
  },
  {
   "cell_type": "code",
   "execution_count": 10,
   "metadata": {},
   "outputs": [
    {
     "name": "stdout",
     "output_type": "stream",
     "text": [
      "2000\n"
     ]
    }
   ],
   "source": [
    "x = np.linspace(-math.pi, math.pi, 2000)\n",
    "y = np.sin(x)\n",
    "\n",
    "print(len(x))"
   ]
  },
  {
   "attachments": {},
   "cell_type": "markdown",
   "metadata": {},
   "source": [
    "initialize weight"
   ]
  },
  {
   "cell_type": "code",
   "execution_count": 11,
   "metadata": {},
   "outputs": [
    {
     "name": "stdout",
     "output_type": "stream",
     "text": [
      "-1.0242670945890135 1.1922959703731422 -0.43918286010572766 -0.7255168222191468\n"
     ]
    }
   ],
   "source": [
    "a = np.random.randn()\n",
    "b = np.random.randn()\n",
    "c = np.random.randn()\n",
    "d = np.random.randn()\n",
    "\n",
    "print(a,b,c,d)"
   ]
  },
  {
   "attachments": {},
   "cell_type": "markdown",
   "metadata": {},
   "source": [
    "we do training here:"
   ]
  },
  {
   "cell_type": "code",
   "execution_count": 12,
   "metadata": {},
   "outputs": [
    {
     "name": "stdout",
     "output_type": "stream",
     "text": [
      "99 666.3826070753418\n",
      "199 468.49815568663576\n",
      "299 330.37808275002914\n",
      "399 233.90182383341357\n",
      "499 166.4664668881842\n",
      "599 119.29866935436789\n",
      "699 86.28592611271677\n",
      "799 63.16616891022622\n",
      "899 46.9652977940716\n",
      "999 35.606431398372436\n",
      "1099 27.63820749572612\n",
      "1199 22.045698466568584\n",
      "1299 18.11871073274293\n",
      "1399 15.35997881943148\n",
      "1499 13.421119299977558\n",
      "1599 12.057917215154433\n",
      "1699 11.099086940304725\n",
      "1799 10.424431913718387\n",
      "1899 9.949565322027308\n",
      "1999 9.6152140386414\n"
     ]
    }
   ],
   "source": [
    "learning_rate = 1e-6\n",
    "\n",
    "for t in range(2000):\n",
    "    # Forward pass: compute predicted y\n",
    "    # y = a + b x + c x^2 + d x^3\n",
    "    y_pred = a + b * x + c * x ** 2 + d * x ** 3\n",
    "    \n",
    "    r = y_pred - y\n",
    "    loss = np.square(r).sum()\n",
    "    if t % 100 == 99:\n",
    "        print(t, loss)\n",
    "    \n",
    "    # backprop\n",
    "    # r = a + b x + c x^2 + d x^3 - y\n",
    "    # L = r^2\n",
    "    dL_da = (1 * 2 * r).sum()       # dr/da * dL/dr = dL/da\n",
    "    dL_db = (x * 2 * r).sum()       # dr/db * dL/dr = dL/db\n",
    "    dL_dc = (x**2 * 2 * r).sum()    # dr/dc * dL/dr = dL/dc\n",
    "    dL_dd = (x**3 * 2 * r).sum()    # dr/dd * dL/dr = dL/dd\n",
    "    \n",
    "    # update step\n",
    "    a -= learning_rate * dL_da\n",
    "    b -= learning_rate * dL_db\n",
    "    c -= learning_rate * dL_dc\n",
    "    d -= learning_rate * dL_dd"
   ]
  },
  {
   "attachments": {},
   "cell_type": "markdown",
   "metadata": {},
   "source": [
    "results here"
   ]
  },
  {
   "cell_type": "code",
   "execution_count": 13,
   "metadata": {},
   "outputs": [
    {
     "name": "stdout",
     "output_type": "stream",
     "text": [
      "Result: y = -0.029007832366481596 + 0.8634064327671115 x + 0.005004333775632164 x^2 + -0.09427851113000889 x^3\n"
     ]
    }
   ],
   "source": [
    "print(f'Result: y = {a} + {b} x + {c} x^2 + {d} x^3')\n"
   ]
  },
  {
   "cell_type": "code",
   "execution_count": 14,
   "metadata": {},
   "outputs": [
    {
     "name": "stdout",
     "output_type": "stream",
     "text": [
      "1.2246467991473532e-16\n",
      "-0.19037133257043637\n"
     ]
    }
   ],
   "source": [
    "lala = math.sin(math.pi)\n",
    "print(lala)\n",
    "\n",
    "x = math.pi\n",
    "hehe =  a + b * x + c * x ** 2 + d * x ** 3\n",
    "print(hehe)"
   ]
  },
  {
   "attachments": {},
   "cell_type": "markdown",
   "metadata": {},
   "source": [
    "The above is the training example with numpy.\n",
    "Now show it with PyTorch."
   ]
  },
  {
   "cell_type": "code",
   "execution_count": 15,
   "metadata": {},
   "outputs": [
    {
     "name": "stdout",
     "output_type": "stream",
     "text": [
      "99 787.834117829932\n",
      "199 523.9421605262328\n",
      "299 349.44671916390354\n",
      "399 234.0606741339491\n",
      "499 157.76099511916658\n",
      "599 107.30737061167265\n",
      "699 73.94458661420086\n",
      "799 51.88321716067994\n",
      "899 37.2949757486755\n",
      "999 27.64838785179213\n",
      "1099 21.269501831154216\n",
      "1199 17.051407247247337\n",
      "1299 14.262152596513845\n",
      "1399 12.41773003966896\n",
      "1499 11.198085939066328\n",
      "1599 10.391582395151786\n",
      "1699 9.858272134349285\n",
      "1799 9.505613815626129\n",
      "1899 9.272413627144044\n",
      "1999 9.118206561655512\n",
      "Result: y = -0.0003700403276558917 + 0.839878052709965 x + 6.383811401827359e-05 x^2 + -0.09093180395381595 x^3\n"
     ]
    }
   ],
   "source": [
    "import torch\n",
    "\n",
    "dtype = torch.double\n",
    "device = torch.device(\"cpu\")\n",
    "\n",
    "x = torch.linspace(-math.pi, math.pi, 2000, device=device, dtype=dtype)\n",
    "y = torch.sin(x)\n",
    "\n",
    "a = torch.randn((), device=device, dtype=dtype)\n",
    "b = torch.randn((), device=device, dtype=dtype)\n",
    "c = torch.randn((), device=device, dtype=dtype)\n",
    "d = torch.randn((), device=device, dtype=dtype)\n",
    "\n",
    "for t in range(2000):\n",
    "    # Forward pass: compute predicted y\n",
    "    # y = a + b x + c x^2 + d x^3\n",
    "    y_pred = a + b * x + c * x ** 2 + d * x ** 3\n",
    "    \n",
    "    r = y_pred - y\n",
    "    loss = r.pow(2).sum().item()\n",
    "    if t % 100 == 99:\n",
    "        print(t, loss)\n",
    "    \n",
    "    # backprop\n",
    "    # r = a + b x + c x^2 + d x^3 - y\n",
    "    # L = r^2\n",
    "    dL_da = (1 * 2 * r).sum()       # dr/da * dL/dr = dL/da\n",
    "    dL_db = (x * 2 * r).sum()       # dr/db * dL/dr = dL/db\n",
    "    dL_dc = (x**2 * 2 * r).sum()    # dr/dc * dL/dr = dL/dc\n",
    "    dL_dd = (x**3 * 2 * r).sum()    # dr/dd * dL/dr = dL/dd\n",
    "    \n",
    "    # update step\n",
    "    a -= learning_rate * dL_da\n",
    "    b -= learning_rate * dL_db\n",
    "    c -= learning_rate * dL_dc\n",
    "    d -= learning_rate * dL_dd\n",
    "    \n",
    "print(f'Result: y = {a} + {b} x + {c} x^2 + {d} x^3')\n"
   ]
  },
  {
   "cell_type": "code",
   "execution_count": 16,
   "metadata": {},
   "outputs": [],
   "source": [
    "import matplotlib.pylab as pylab\n",
    "params = {'legend.fontsize': 'x-large',\n",
    "          'figure.figsize': (15, 5),\n",
    "         'axes.labelsize': 'x-large',\n",
    "         'axes.titlesize':'x-large',\n",
    "         'xtick.labelsize':'x-large',\n",
    "         'ytick.labelsize':'x-large'}\n",
    "pylab.rcParams.update(params)"
   ]
  }
 ],
 "metadata": {
  "kernelspec": {
   "display_name": "Python 3 (ipykernel)",
   "language": "python",
   "name": "python3"
  },
  "language_info": {
   "codemirror_mode": {
    "name": "ipython",
    "version": 3
   },
   "file_extension": ".py",
   "mimetype": "text/x-python",
   "name": "python",
   "nbconvert_exporter": "python",
   "pygments_lexer": "ipython3",
   "version": "3.9.6"
  }
 },
 "nbformat": 4,
 "nbformat_minor": 4
}
